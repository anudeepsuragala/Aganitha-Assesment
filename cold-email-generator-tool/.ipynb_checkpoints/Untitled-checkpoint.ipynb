{
 "cells": [
  {
   "cell_type": "code",
   "execution_count": 3,
   "id": "a4ed7c85-5360-4680-8f65-dc0f4106c574",
   "metadata": {},
   "outputs": [],
   "source": [
    "import chromadb\n",
    "\n",
    "client = chromadb.Client()\n",
    "collection = client.create_collection(name=\"my_collection\")\n"
   ]
  },
  {
   "cell_type": "code",
   "execution_count": null,
   "id": "d3a1b40b-44dd-4a17-8f14-5ff3acee9b91",
   "metadata": {},
   "outputs": [],
   "source": [
    "collection.add(\n",
    "     documents=[\n",
    "          \"this document is about viratkohli\",\n",
    "          \"this document is  about bumrah\",\n",
    "          # \"this document about hardikpandhya\",\n",
    "          # \"this document about dhoni\"\n",
    "         \n",
    "         ],\n",
    "          ids=['id1','id2']\n",
    ")"
   ]
  }
 ],
 "metadata": {
  "kernelspec": {
   "display_name": "Python 3 (ipykernel)",
   "language": "python",
   "name": "python3"
  },
  "language_info": {
   "codemirror_mode": {
    "name": "ipython",
    "version": 3
   },
   "file_extension": ".py",
   "mimetype": "text/x-python",
   "name": "python",
   "nbconvert_exporter": "python",
   "pygments_lexer": "ipython3",
   "version": "3.10.1"
  }
 },
 "nbformat": 4,
 "nbformat_minor": 5
}

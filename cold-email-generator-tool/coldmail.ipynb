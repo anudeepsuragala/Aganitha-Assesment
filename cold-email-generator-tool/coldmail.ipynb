{
 "cells": [
  {
   "cell_type": "code",
   "execution_count": 4,
   "id": "788b3c96-6445-405b-8956-6833ce5c6fd3",
   "metadata": {},
   "outputs": [],
   "source": [
    "import getpass\n",
    "import os\n",
    "from langchain.chat_models import ChatOpenAI\n",
    "from langchain_core.prompts import PromptTemplate\n",
    "from langchain.chains import LLMChain\n",
    "\n",
    "if not os.environ.get(\"GROQ_API_KEY\"):\n",
    "  os.environ[\"GROQ_API_KEY\"] = \"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\"\n",
    "\n",
    "from langchain.chat_models import init_chat_model\n",
    "\n",
    "model = init_chat_model(\"llama3-8b-8192\", model_provider=\"groq\")"
   ]
  },
  {
   "cell_type": "code",
   "execution_count": 11,
   "id": "6405c899-e1ec-4349-a3d5-d869f2ccbec3",
   "metadata": {},
   "outputs": [
    {
     "name": "stdout",
     "output_type": "stream",
     "text": [
      "The concept of Artificial General Intelligence (AGI) has been around for decades, and there is no single answer to when it was \"created.\" AGI is a hypothetical intelligence that possesses the ability to understand, learn, and apply knowledge across a wide range of tasks, similar to human intelligence.\n",
      "\n",
      "The first AI program, called Logical Theorist, was developed in 1956 by Allen Newell and Herbert Simon. This program was designed to simulate human problem-solving abilities by using logical reasoning and search algorithms.\n",
      "\n",
      "In the 1960s and 1970s, AI research focused on developing rule-based systems, expert systems, and logic-based systems. These systems were designed to perform specific tasks, such as diagnosing medical conditions or controlling industrial processes.\n",
      "\n",
      "In the 1980s, AI research shifted towards machine learning, which involves training algorithms on data to enable them to learn and improve their performance over time. This led to the development of neural networks, decision trees, and other machine learning techniques.\n",
      "\n",
      "In the 1990s and 2000s, AI research continued to advance, with the development of more sophisticated machine learning algorithms, natural language processing, and computer vision.\n",
      "\n",
      "Today, AI is a rapidly evolving field, with significant advances being made in areas such as:\n",
      "\n",
      "1. Deep learning: A type of machine learning that involves training neural networks with multiple layers.\n",
      "2. Reinforcement learning: A type of machine learning that involves training agents to take actions in an environment to maximize a reward.\n",
      "3. Natural language processing: A type of AI that enables computers to understand, generate, and process human language.\n",
      "4. Computer vision: A type of AI that enables computers to interpret and understand visual data from images and videos.\n",
      "\n",
      "While significant progress has been made in AI research, AGI is still a topic of ongoing research and debate. Some experts believe that AGI is closer than ever, while others argue that it is still decades away.\n"
     ]
    }
   ],
   "source": [
    "res = model.invoke(\"when the gen ai created\")\n",
    "print(res.content)"
   ]
  },
  {
   "cell_type": "code",
   "execution_count": 19,
   "id": "033bcfc5-870a-486b-a9a2-3fe0bfac5338",
   "metadata": {},
   "outputs": [
    {
     "name": "stdout",
     "output_type": "stream",
     "text": [
      "Software Development Engineer I - Job ID: 2916022 | Amazon.jobs\n",
      "Skip to main contentHomeTeamsLocationsJob categoriesYour job applicationResourcesDisability accommodationsBenefitsInclusive experiencesInterview tipsLeadership principlesWorking at AmazonFAQ×Software Development Engineer IJob ID: 2916022 | ADCI HYD 13 SEZApply nowDESCRIPTIONIt's still Day 1 at Amazon IN Payments, and we're at the beginning of building out an entire suite of rendering technologies that can standardize the way UX components interact and their look and feel on Amazon Pay pages. PayUI is a greenfield initiative in Amazon Pay org, offering a rare opportunity to build standardized UX components that have to be reused across all Amazon Pay pages.You will be part of a new team building a large scale tier-1 rendering platform that supports as the skeleton for all the payment pages to depend, host and render on, in Amazon Pay. This new system will be utilized by thousands of customers every day. You and a team of developers will work through all phases of the project life-cycle, including reviewing requirements, designing services that lay the foundation for the new technology platform, building from the basic blocks of the new UX components and their interfaces, developing and testing code, and delivering seamless implementations for our customers. You will help define, design, prototype, and build these experiences. To achieve this, you will collaborate closely with product managers, UX designers, Software developers and multiple client teams.Our team is looking for a seasoned engineer to design and build customer experiences that span multiple customer use cases in Amazon Pay space.  The ability to work within a creative and positive team environment are key to the role.BASIC QUALIFICATIONS- 1+ years of non-internship professional software development experience- Experience programming with at least one software programming languagePREFERRED QUALIFICATIONS- Bachelor's degree in computer science or equivalentOur inclusive culture empowers Amazonians to deliver the best results for our customers. If you have a disability and need a workplace accommodation or adjustment during the application and hiring process, including support for the interview or onboarding process, please visit https://amazon.jobs/content/en/how-we-hire/accommodations for more information. If the country/region you’re applying in isn’t listed, please contact your Recruiting Partner.Job detailsIND, TS, HyderabadSoftware DevelopmentShare this jobJOIN US ONFind CareersJob CategoriesTeamsLocationsUS and EU Military recruitingWarehouse and Hourly JobsWorking At AmazonCultureBenefitsAmazon NewsletterDiversity at AmazonOur leadership principlesHelpFAQInterview tipsReview application statusDisability accommodationsEU background checksAmazon is committed to a diverse and inclusive workplace. Amazon is an equal opportunity employer and does not discriminate on the basis of race, national origin, gender, gender identity, sexual orientation, protected veteran status, disability, age, or other legally protected status.Privacy and DataImpressum© 1996-2025, Amazon.com, Inc. or its affiliates\n"
     ]
    }
   ],
   "source": [
    "from langchain_community.document_loaders import WebBaseLoader\n",
    "\n",
    "loader = WebBaseLoader(\"https://www.amazon.jobs/en/jobs/2916022/software-development-engineer-i\")\n",
    "page_data =loader.load().pop().page_content\n",
    "print(page_data)"
   ]
  },
  {
   "cell_type": "code",
   "execution_count": 43,
   "id": "e6004805-12a3-4b2f-81b0-449ebfc45170",
   "metadata": {},
   "outputs": [
    {
     "name": "stdout",
     "output_type": "stream",
     "text": [
      "Here is the extracted job posting in JSON format:\n",
      "\n",
      "```\n",
      "{\n",
      "  \"role\": \"Software Development Engineer I\",\n",
      "  \"experience\": \"1+ years of non-internship professional software development experience\",\n",
      "  \"skills\": \"Experience programming with at least one software programming language\",\n",
      "  \"description\": \"It's still Day 1 at Amazon IN Payments, and we're at the beginning of building out an entire suite of rendering technologies that can standardize the way UX components interact and their look and feel on Amazon Pay pages. ... You will help define, design, prototype, and build these experiences. To achieve this, you will collaborate closely with product managers, UX designers, Software developers and multiple client teams.\"\n",
      "}\n",
      "```\n",
      "\n",
      "Let me know if this meets your requirements!\n"
     ]
    },
    {
     "data": {
      "text/plain": [
       "str"
      ]
     },
     "execution_count": 43,
     "metadata": {},
     "output_type": "execute_result"
    }
   ],
   "source": [
    "from langchain_core.prompts import PromptTemplate\n",
    "\n",
    "prompt_extract = PromptTemplate.from_template(\"\"\" SCRAPPED TEXT FROM WEBSITE:\n",
    "{page_data}\n",
    "###INSTRUCTIONS:\n",
    "the scraped text is from amazon website  careers page\n",
    "you job is to extract  the job posstings and return  them in json format \n",
    "following keys : 'role', 'experience','skills ' and 'description'\n",
    "only return valid json\n",
    "### valid json(no preamble)\"\"\"\n",
    ")\n",
    "chain_extract= prompt_extract | model\n",
    "res = chain_extract.invoke(input={'page_data':page_data})\n",
    "print(res.content)\n",
    "type(res.content)\n",
    "\n"
   ]
  },
  {
   "cell_type": "code",
   "execution_count": 51,
   "id": "d4271b76-aa36-4711-8025-d1b230f79c29",
   "metadata": {},
   "outputs": [
    {
     "data": {
      "text/plain": [
       "{'role': 'Software Development Engineer I',\n",
       " 'experience': '1+ years of non-internship professional software development experience',\n",
       " 'skills': 'Experience programming with at least one software programming language',\n",
       " 'description': \"It's still Day 1 at Amazon IN Payments, and we're at the beginning of building out an entire suite of rendering technologies that can standardize the way UX components interact and their look and feel on Amazon Pay pages. ... You will help define, design, prototype, and build these experiences. To achieve this, you will collaborate closely with product managers, UX designers, Software developers and multiple client teams.\"}"
      ]
     },
     "execution_count": 51,
     "metadata": {},
     "output_type": "execute_result"
    }
   ],
   "source": [
    "from langchain_core.output_parsers import JsonOutputParser\n",
    "\n",
    "json_parser = JsonOutputParser()\n",
    "json_res = json_parser.parse(res.content) \n",
    "json_res\n"
   ]
  },
  {
   "cell_type": "code",
   "execution_count": 52,
   "id": "250f29e4-de77-4a7b-819d-273224bb9c25",
   "metadata": {},
   "outputs": [
    {
     "data": {
      "text/plain": [
       "dict"
      ]
     },
     "execution_count": 52,
     "metadata": {},
     "output_type": "execute_result"
    }
   ],
   "source": [
    "type(json_res)\n"
   ]
  },
  {
   "cell_type": "code",
   "execution_count": 57,
   "id": "812c85ee-7660-40e1-8180-7d8c8dfb1f80",
   "metadata": {},
   "outputs": [
    {
     "data": {
      "text/html": [
       "<div>\n",
       "<style scoped>\n",
       "    .dataframe tbody tr th:only-of-type {\n",
       "        vertical-align: middle;\n",
       "    }\n",
       "\n",
       "    .dataframe tbody tr th {\n",
       "        vertical-align: top;\n",
       "    }\n",
       "\n",
       "    .dataframe thead th {\n",
       "        text-align: right;\n",
       "    }\n",
       "</style>\n",
       "<table border=\"1\" class=\"dataframe\">\n",
       "  <thead>\n",
       "    <tr style=\"text-align: right;\">\n",
       "      <th></th>\n",
       "      <th>Techstack</th>\n",
       "      <th>Links</th>\n",
       "    </tr>\n",
       "  </thead>\n",
       "  <tbody>\n",
       "    <tr>\n",
       "      <th>0</th>\n",
       "      <td>React, Node.js, MongoDB</td>\n",
       "      <td>https://example.com/react-portfolio</td>\n",
       "    </tr>\n",
       "    <tr>\n",
       "      <th>1</th>\n",
       "      <td>Angular,.NET, SQL Server</td>\n",
       "      <td>https://example.com/angular-portfolio</td>\n",
       "    </tr>\n",
       "    <tr>\n",
       "      <th>2</th>\n",
       "      <td>Vue.js, Ruby on Rails, PostgreSQL</td>\n",
       "      <td>https://example.com/vue-portfolio</td>\n",
       "    </tr>\n",
       "    <tr>\n",
       "      <th>3</th>\n",
       "      <td>Python, Django, MySQL</td>\n",
       "      <td>https://example.com/python-portfolio</td>\n",
       "    </tr>\n",
       "    <tr>\n",
       "      <th>4</th>\n",
       "      <td>Java, Spring Boot, Oracle</td>\n",
       "      <td>https://example.com/java-portfolio</td>\n",
       "    </tr>\n",
       "    <tr>\n",
       "      <th>5</th>\n",
       "      <td>Flutter, Firebase, GraphQL</td>\n",
       "      <td>https://example.com/flutter-portfolio</td>\n",
       "    </tr>\n",
       "    <tr>\n",
       "      <th>6</th>\n",
       "      <td>WordPress, PHP, MySQL</td>\n",
       "      <td>https://example.com/wordpress-portfolio</td>\n",
       "    </tr>\n",
       "    <tr>\n",
       "      <th>7</th>\n",
       "      <td>Magento, PHP, MySQL</td>\n",
       "      <td>https://example.com/magento-portfolio</td>\n",
       "    </tr>\n",
       "    <tr>\n",
       "      <th>8</th>\n",
       "      <td>React Native, Node.js, MongoDB</td>\n",
       "      <td>https://example.com/react-native-portfolio</td>\n",
       "    </tr>\n",
       "    <tr>\n",
       "      <th>9</th>\n",
       "      <td>iOS, Swift, Core Data</td>\n",
       "      <td>https://example.com/ios-portfolio</td>\n",
       "    </tr>\n",
       "    <tr>\n",
       "      <th>10</th>\n",
       "      <td>Android, Java, Room Persistence</td>\n",
       "      <td>https://example.com/android-portfolio</td>\n",
       "    </tr>\n",
       "    <tr>\n",
       "      <th>11</th>\n",
       "      <td>Kotlin, Android, Firebase</td>\n",
       "      <td>https://example.com/kotlin-android-portfolio</td>\n",
       "    </tr>\n",
       "    <tr>\n",
       "      <th>12</th>\n",
       "      <td>Android TV, Kotlin, Android NDK</td>\n",
       "      <td>https://example.com/android-tv-portfolio</td>\n",
       "    </tr>\n",
       "    <tr>\n",
       "      <th>13</th>\n",
       "      <td>iOS, Swift, ARKit</td>\n",
       "      <td>https://example.com/ios-ar-portfolio</td>\n",
       "    </tr>\n",
       "    <tr>\n",
       "      <th>14</th>\n",
       "      <td>Cross-platform, Xamarin, Azure</td>\n",
       "      <td>https://example.com/xamarin-portfolio</td>\n",
       "    </tr>\n",
       "    <tr>\n",
       "      <th>15</th>\n",
       "      <td>Backend, Kotlin, Spring Boot</td>\n",
       "      <td>https://example.com/kotlin-backend-portfolio</td>\n",
       "    </tr>\n",
       "    <tr>\n",
       "      <th>16</th>\n",
       "      <td>Frontend, TypeScript, Angular</td>\n",
       "      <td>https://example.com/typescript-frontend-portfolio</td>\n",
       "    </tr>\n",
       "    <tr>\n",
       "      <th>17</th>\n",
       "      <td>Full-stack, JavaScript, Express.js</td>\n",
       "      <td>https://example.com/full-stack-js-portfolio</td>\n",
       "    </tr>\n",
       "    <tr>\n",
       "      <th>18</th>\n",
       "      <td>Machine Learning, Python, TensorFlow</td>\n",
       "      <td>https://example.com/ml-python-portfolio</td>\n",
       "    </tr>\n",
       "    <tr>\n",
       "      <th>19</th>\n",
       "      <td>DevOps, Jenkins, Docker</td>\n",
       "      <td>https://example.com/devops-portfolio</td>\n",
       "    </tr>\n",
       "  </tbody>\n",
       "</table>\n",
       "</div>"
      ],
      "text/plain": [
       "                               Techstack  \\\n",
       "0                React, Node.js, MongoDB   \n",
       "1               Angular,.NET, SQL Server   \n",
       "2      Vue.js, Ruby on Rails, PostgreSQL   \n",
       "3                  Python, Django, MySQL   \n",
       "4              Java, Spring Boot, Oracle   \n",
       "5             Flutter, Firebase, GraphQL   \n",
       "6                  WordPress, PHP, MySQL   \n",
       "7                    Magento, PHP, MySQL   \n",
       "8         React Native, Node.js, MongoDB   \n",
       "9                  iOS, Swift, Core Data   \n",
       "10       Android, Java, Room Persistence   \n",
       "11             Kotlin, Android, Firebase   \n",
       "12       Android TV, Kotlin, Android NDK   \n",
       "13                     iOS, Swift, ARKit   \n",
       "14        Cross-platform, Xamarin, Azure   \n",
       "15          Backend, Kotlin, Spring Boot   \n",
       "16         Frontend, TypeScript, Angular   \n",
       "17    Full-stack, JavaScript, Express.js   \n",
       "18  Machine Learning, Python, TensorFlow   \n",
       "19               DevOps, Jenkins, Docker   \n",
       "\n",
       "                                                Links  \n",
       "0                 https://example.com/react-portfolio  \n",
       "1               https://example.com/angular-portfolio  \n",
       "2                   https://example.com/vue-portfolio  \n",
       "3                https://example.com/python-portfolio  \n",
       "4                  https://example.com/java-portfolio  \n",
       "5               https://example.com/flutter-portfolio  \n",
       "6             https://example.com/wordpress-portfolio  \n",
       "7               https://example.com/magento-portfolio  \n",
       "8          https://example.com/react-native-portfolio  \n",
       "9                   https://example.com/ios-portfolio  \n",
       "10              https://example.com/android-portfolio  \n",
       "11       https://example.com/kotlin-android-portfolio  \n",
       "12           https://example.com/android-tv-portfolio  \n",
       "13               https://example.com/ios-ar-portfolio  \n",
       "14              https://example.com/xamarin-portfolio  \n",
       "15       https://example.com/kotlin-backend-portfolio  \n",
       "16  https://example.com/typescript-frontend-portfolio  \n",
       "17        https://example.com/full-stack-js-portfolio  \n",
       "18            https://example.com/ml-python-portfolio  \n",
       "19               https://example.com/devops-portfolio  "
      ]
     },
     "execution_count": 57,
     "metadata": {},
     "output_type": "execute_result"
    }
   ],
   "source": [
    "import pandas as pd\n",
    "df = pd.read_csv(\"C:/Users/AVIDEEPU SURAGALA/Downloads/my_portfolio.csv\")\n",
    "df"
   ]
  },
  {
   "cell_type": "code",
   "execution_count": 66,
   "id": "a9cdd8cb-28d3-4aea-a025-831d8db01170",
   "metadata": {},
   "outputs": [],
   "source": [
    "import chromadb\n",
    "import uuid\n",
    "\n",
    "client = chromadb.PersistentClient('vectorstore')\n",
    "collection = client.get_or_create_collection(name=\"portfolio\")\n",
    "\n",
    "if not collection.count():\n",
    "    for _,row in df.iterrows():\n",
    "         collection.add(documents=row[\"Techstack\"],\n",
    "                        metadatas={\"links\": row [\"Links\"]},\n",
    "                        ids= [str(uuid.uuid4())])"
   ]
  },
  {
   "cell_type": "code",
   "execution_count": 70,
   "id": "89945e96-d233-4b65-a3db-1ca2fccb616e",
   "metadata": {},
   "outputs": [
    {
     "data": {
      "text/plain": [
       "[[{'links': 'https://example.com/java-portfolio'},\n",
       "  {'links': 'https://example.com/android-portfolio'}],\n",
       " [{'links': 'https://example.com/ml-python-portfolio'},\n",
       "  {'links': 'https://example.com/magento-portfolio'}]]"
      ]
     },
     "execution_count": 70,
     "metadata": {},
     "output_type": "execute_result"
    }
   ],
   "source": [
    "links = collection.query(query_texts=[\"expertise in java\",\"expertise in ux designers\"], n_results=2).get('metadatas')\n",
    "links"
   ]
  },
  {
   "cell_type": "code",
   "execution_count": 71,
   "id": "7fb68ede-d38e-48ed-9236-1977240aab6d",
   "metadata": {},
   "outputs": [
    {
     "data": {
      "text/plain": [
       "[[{'links': 'https://example.com/ml-python-portfolio'},\n",
       "  {'links': 'https://example.com/magento-portfolio'}],\n",
       " [{'links': 'https://example.com/ml-python-portfolio'},\n",
       "  {'links': 'https://example.com/magento-portfolio'}]]"
      ]
     },
     "execution_count": 71,
     "metadata": {},
     "output_type": "execute_result"
    }
   ],
   "source": [
    "links = collection.query(query_texts=[\"expertise in system design\",\"expertise in ux designers\"], n_results=2).get('metadatas')\n",
    "links"
   ]
  },
  {
   "cell_type": "code",
   "execution_count": 73,
   "id": "e9ce3fae-d2a3-42e8-a710-ef14ebf22cd1",
   "metadata": {},
   "outputs": [
    {
     "data": {
      "text/plain": [
       "'Experience programming with at least one software programming language'"
      ]
     },
     "execution_count": 73,
     "metadata": {},
     "output_type": "execute_result"
    }
   ],
   "source": [
    "job = json_res\n",
    "job['skills']"
   ]
  },
  {
   "cell_type": "code",
   "execution_count": 84,
   "id": "4cdd8987-189c-47cd-9562-6c4b87abf689",
   "metadata": {},
   "outputs": [
    {
     "name": "stdout",
     "output_type": "stream",
     "text": [
      "Subject: Unlocking Seamless Integration with Atliq - Expert AI & Software Consulting\n",
      "\n",
      "Dear [Client],\n",
      "\n",
      "I came across the job description for a Software Development Engineer I role at Amazon IN Payments, and I was impressed by the exciting project to build rendering technologies for Amazon Pay pages. As a Business Development Executive at Atliq, a leading AI & software consulting company, I'd like to introduce our expertise in seamless integration of business processes through automated tools.\n",
      "\n",
      "Atliq has a proven track record of empowering numerous enterprises with tailored solutions, process optimization, cost reduction, and increased efficiency. I'd like to highlight a few relevant success stories that demonstrate our capabilities:\n",
      "\n",
      "* [Link: https://example.com/ml-python-portfolio] showcases our expertise in AI-powered software development using Python, which could be leveraged for building rendering technologies.\n",
      "* [Link: https://example.com/magento-portfolio] demonstrates our proficiency in integrating AI-driven solutions with e-commerce platforms, which could be applied to optimize user experiences on Amazon Pay pages.\n",
      "\n",
      "Our team at Atliq would be delighted to discuss how our expertise can support your project. We can help you:\n",
      "\n",
      "* Define, design, prototype, and build rendering technologies that meet Amazon's UX standards\n",
      "* Collaborate with your team to integrate these experiences with Amazon Pay pages\n",
      "* Optimize business processes and reduce costs through AI-driven automation\n",
      "\n",
      "If you're interested in learning more about how Atliq can support your project, I'd be happy to set up a call to discuss further.\n",
      "\n",
      "Best regards,\n",
      "\n",
      "Anudeep\n",
      "Business Development Executive\n",
      "Atliq\n"
     ]
    }
   ],
   "source": [
    "prompt_email = PromptTemplate.from_template(\n",
    "    \"\"\"\n",
    "    ### JOB DESCRIPTION:\n",
    "    {job_description}\n",
    "\n",
    "    ### INSTRUCTIONS:\n",
    "    you are Anudeep , a business development at Atliq, atliq is an ai & software consulting company dedicated \n",
    "    seamless intergration of business process  through automated tools.\n",
    "    over our experience, we have empowered numerous enterprices   with tailored solution process , optimization , cost reduction , increase efficency.\n",
    "    Your job is to write cold mail to the client  regarding the job mentioned above describing the capability  in their fulfilling their needs\n",
    "    also add the most relevent ones from the following links  to show case Atliq's portfolio:{link_list} \n",
    "    remeber you are anudeep , bde at Atliq\n",
    "    Do not provide preamble.\n",
    "    ### EMAIL (NO PREAMBLE):\n",
    "    \n",
    "    \"\"\"\n",
    "    \n",
    ")\n",
    "chain_email = prompt_email | model\n",
    "res = chain_email.invoke({\"job_description\": str(job),\"link_list\": links})\n",
    "print(res.content)"
   ]
  },
  {
   "cell_type": "code",
   "execution_count": null,
   "id": "9ab9f0d7-89e0-4ee7-b18f-8c9d74b97213",
   "metadata": {},
   "outputs": [],
   "source": []
  }
 ],
 "metadata": {
  "kernelspec": {
   "display_name": "Python 3 (ipykernel)",
   "language": "python",
   "name": "python3"
  },
  "language_info": {
   "codemirror_mode": {
    "name": "ipython",
    "version": 3
   },
   "file_extension": ".py",
   "mimetype": "text/x-python",
   "name": "python",
   "nbconvert_exporter": "python",
   "pygments_lexer": "ipython3",
   "version": "3.10.1"
  }
 },
 "nbformat": 4,
 "nbformat_minor": 5
}
